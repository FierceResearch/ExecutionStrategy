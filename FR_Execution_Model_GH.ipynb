{
 "cells": [
  {
   "cell_type": "markdown",
   "metadata": {},
   "source": [
    "# Fierce Research Execution Model"
   ]
  },
  {
   "cell_type": "markdown",
   "metadata": {},
   "source": [
    "##### Import Packages"
   ]
  },
  {
   "cell_type": "code",
   "execution_count": 1,
   "metadata": {},
   "outputs": [],
   "source": [
    "import eikon as tr\n",
    "import pandas as pd\n",
    "import numpy as np\n",
    "import datetime as dt\n",
    "from datetime import datetime"
   ]
  },
  {
   "cell_type": "code",
   "execution_count": 2,
   "metadata": {},
   "outputs": [],
   "source": [
    "tr.set_app_key('AppKey')"
   ]
  },
  {
   "cell_type": "code",
   "execution_count": 3,
   "metadata": {},
   "outputs": [],
   "source": [
    "trading, e= tr.get_data(['HXU.TO','NUGT.K', 'SPY', 'QQQ.O','SPXL.K','TQQQ.O'],['TR.closeprice.date','TR.closeprice','TR.PriceAvg20D','TR.PriceAvg200D'])"
   ]
  },
  {
   "cell_type": "markdown",
   "metadata": {},
   "source": [
    "##### Import ETFs Prices"
   ]
  },
  {
   "cell_type": "code",
   "execution_count": 4,
   "metadata": {},
   "outputs": [
    {
     "data": {
      "text/html": [
       "<div>\n",
       "<style scoped>\n",
       "    .dataframe tbody tr th:only-of-type {\n",
       "        vertical-align: middle;\n",
       "    }\n",
       "\n",
       "    .dataframe tbody tr th {\n",
       "        vertical-align: top;\n",
       "    }\n",
       "\n",
       "    .dataframe thead th {\n",
       "        text-align: right;\n",
       "    }\n",
       "</style>\n",
       "<table border=\"1\" class=\"dataframe\">\n",
       "  <thead>\n",
       "    <tr style=\"text-align: right;\">\n",
       "      <th></th>\n",
       "      <th>instrument</th>\n",
       "      <th>close price</th>\n",
       "      <th>20-day sma</th>\n",
       "      <th>200-day sma</th>\n",
       "    </tr>\n",
       "  </thead>\n",
       "  <tbody>\n",
       "    <tr>\n",
       "      <th>2020-06-23</th>\n",
       "      <td>HXU.TO</td>\n",
       "      <td>32.93</td>\n",
       "      <td>32.60</td>\n",
       "      <td>37.07</td>\n",
       "    </tr>\n",
       "    <tr>\n",
       "      <th>2020-06-23</th>\n",
       "      <td>NUGT.K</td>\n",
       "      <td>72.95</td>\n",
       "      <td>66.13</td>\n",
       "      <td>118.59</td>\n",
       "    </tr>\n",
       "    <tr>\n",
       "      <th>2020-06-23</th>\n",
       "      <td>SPY</td>\n",
       "      <td>312.05</td>\n",
       "      <td>310.50</td>\n",
       "      <td>301.58</td>\n",
       "    </tr>\n",
       "    <tr>\n",
       "      <th>2020-06-23</th>\n",
       "      <td>QQQ.O</td>\n",
       "      <td>248.84</td>\n",
       "      <td>239.25</td>\n",
       "      <td>209.46</td>\n",
       "    </tr>\n",
       "    <tr>\n",
       "      <th>2020-06-23</th>\n",
       "      <td>SPXL.K</td>\n",
       "      <td>43.47</td>\n",
       "      <td>42.88</td>\n",
       "      <td>50.78</td>\n",
       "    </tr>\n",
       "    <tr>\n",
       "      <th>2020-06-23</th>\n",
       "      <td>TQQQ.O</td>\n",
       "      <td>99.80</td>\n",
       "      <td>89.12</td>\n",
       "      <td>75.68</td>\n",
       "    </tr>\n",
       "  </tbody>\n",
       "</table>\n",
       "</div>"
      ],
      "text/plain": [
       "           instrument  close price  20-day sma  200-day sma\n",
       "2020-06-23     HXU.TO        32.93       32.60        37.07\n",
       "2020-06-23     NUGT.K        72.95       66.13       118.59\n",
       "2020-06-23        SPY       312.05      310.50       301.58\n",
       "2020-06-23      QQQ.O       248.84      239.25       209.46\n",
       "2020-06-23     SPXL.K        43.47       42.88        50.78\n",
       "2020-06-23     TQQQ.O        99.80       89.12        75.68"
      ]
     },
     "execution_count": 4,
     "metadata": {},
     "output_type": "execute_result"
    }
   ],
   "source": [
    "trading['Date'] = pd.to_datetime(trading['Date'])\n",
    "trading.set_index('Date', inplace=True)\n",
    "trading.index = trading.index.map(lambda t: t.strftime('%Y-%m-%d')) \n",
    "trading.columns = map(str.lower, trading.columns)\n",
    "trading = trading.round(2)\n",
    "trading"
   ]
  },
  {
   "cell_type": "markdown",
   "metadata": {},
   "source": [
    "##### Set Tactical Asset Allocation Weights For Each ETF"
   ]
  },
  {
   "cell_type": "code",
   "execution_count": 5,
   "metadata": {},
   "outputs": [
    {
     "data": {
      "text/plain": [
       "1.0"
      ]
     },
     "execution_count": 5,
     "metadata": {},
     "output_type": "execute_result"
    }
   ],
   "source": [
    "activeportusd = 50000\n",
    "trading['tactical aa'] = [.05,.05,.20,.20,.20,.30]\n",
    "trading['tactical aa'].sum()"
   ]
  },
  {
   "cell_type": "code",
   "execution_count": 6,
   "metadata": {},
   "outputs": [],
   "source": [
    "trading['maxnotional'] = activeportusd*trading['tactical aa']\n",
    "trading['max num of shrs'] = (trading['maxnotional']/trading['close price']).round()"
   ]
  },
  {
   "cell_type": "markdown",
   "metadata": {},
   "source": [
    "##### Position Size Guidelines"
   ]
  },
  {
   "cell_type": "code",
   "execution_count": 7,
   "metadata": {},
   "outputs": [],
   "source": [
    "position_sizes = []\n",
    "for idx, row in trading.iterrows():\n",
    "    i = row['close price']\n",
    "    x = row['20-day sma']\n",
    "    y = row['200-day sma']\n",
    "    z = row['max num of shrs']\n",
    "    if (i > x) and (i > y):\n",
    "        position_sizes.append(1*z)\n",
    "    elif ((i > x) and (i < y)) or ((i < x) and (i > y)):\n",
    "        position_sizes.append(0.5*z)\n",
    "    elif (i < x) and (i < y):\n",
    "        position_sizes.append(0.1*z)\n",
    "    else:\n",
    "        position_sizes.append(np.nan)\n",
    "\n",
    "trading['recommended position size'] = position_sizes"
   ]
  },
  {
   "cell_type": "markdown",
   "metadata": {},
   "source": [
    "##### Price close VS 20-day sma VS 200-day sma multiplied by max number of shares"
   ]
  },
  {
   "cell_type": "code",
   "execution_count": 8,
   "metadata": {},
   "outputs": [
    {
     "data": {
      "text/html": [
       "<div>\n",
       "<style scoped>\n",
       "    .dataframe tbody tr th:only-of-type {\n",
       "        vertical-align: middle;\n",
       "    }\n",
       "\n",
       "    .dataframe tbody tr th {\n",
       "        vertical-align: top;\n",
       "    }\n",
       "\n",
       "    .dataframe thead th {\n",
       "        text-align: right;\n",
       "    }\n",
       "</style>\n",
       "<table border=\"1\" class=\"dataframe\">\n",
       "  <thead>\n",
       "    <tr style=\"text-align: right;\">\n",
       "      <th></th>\n",
       "      <th>instrument</th>\n",
       "      <th>close price</th>\n",
       "      <th>20-day sma</th>\n",
       "      <th>200-day sma</th>\n",
       "      <th>tactical aa</th>\n",
       "      <th>maxnotional</th>\n",
       "      <th>max num of shrs</th>\n",
       "      <th>recommended position size</th>\n",
       "    </tr>\n",
       "  </thead>\n",
       "  <tbody>\n",
       "    <tr>\n",
       "      <th>2020-06-23</th>\n",
       "      <td>HXU.TO</td>\n",
       "      <td>32.93</td>\n",
       "      <td>32.60</td>\n",
       "      <td>37.07</td>\n",
       "      <td>0.05</td>\n",
       "      <td>2500.0</td>\n",
       "      <td>76.0</td>\n",
       "      <td>38.0</td>\n",
       "    </tr>\n",
       "    <tr>\n",
       "      <th>2020-06-23</th>\n",
       "      <td>NUGT.K</td>\n",
       "      <td>72.95</td>\n",
       "      <td>66.13</td>\n",
       "      <td>118.59</td>\n",
       "      <td>0.05</td>\n",
       "      <td>2500.0</td>\n",
       "      <td>34.0</td>\n",
       "      <td>17.0</td>\n",
       "    </tr>\n",
       "    <tr>\n",
       "      <th>2020-06-23</th>\n",
       "      <td>SPY</td>\n",
       "      <td>312.05</td>\n",
       "      <td>310.50</td>\n",
       "      <td>301.58</td>\n",
       "      <td>0.20</td>\n",
       "      <td>10000.0</td>\n",
       "      <td>32.0</td>\n",
       "      <td>32.0</td>\n",
       "    </tr>\n",
       "    <tr>\n",
       "      <th>2020-06-23</th>\n",
       "      <td>QQQ.O</td>\n",
       "      <td>248.84</td>\n",
       "      <td>239.25</td>\n",
       "      <td>209.46</td>\n",
       "      <td>0.20</td>\n",
       "      <td>10000.0</td>\n",
       "      <td>40.0</td>\n",
       "      <td>40.0</td>\n",
       "    </tr>\n",
       "    <tr>\n",
       "      <th>2020-06-23</th>\n",
       "      <td>SPXL.K</td>\n",
       "      <td>43.47</td>\n",
       "      <td>42.88</td>\n",
       "      <td>50.78</td>\n",
       "      <td>0.20</td>\n",
       "      <td>10000.0</td>\n",
       "      <td>230.0</td>\n",
       "      <td>115.0</td>\n",
       "    </tr>\n",
       "    <tr>\n",
       "      <th>2020-06-23</th>\n",
       "      <td>TQQQ.O</td>\n",
       "      <td>99.80</td>\n",
       "      <td>89.12</td>\n",
       "      <td>75.68</td>\n",
       "      <td>0.30</td>\n",
       "      <td>15000.0</td>\n",
       "      <td>150.0</td>\n",
       "      <td>150.0</td>\n",
       "    </tr>\n",
       "  </tbody>\n",
       "</table>\n",
       "</div>"
      ],
      "text/plain": [
       "           instrument  close price  20-day sma  200-day sma  tactical aa  \\\n",
       "2020-06-23     HXU.TO        32.93       32.60        37.07         0.05   \n",
       "2020-06-23     NUGT.K        72.95       66.13       118.59         0.05   \n",
       "2020-06-23        SPY       312.05      310.50       301.58         0.20   \n",
       "2020-06-23      QQQ.O       248.84      239.25       209.46         0.20   \n",
       "2020-06-23     SPXL.K        43.47       42.88        50.78         0.20   \n",
       "2020-06-23     TQQQ.O        99.80       89.12        75.68         0.30   \n",
       "\n",
       "            maxnotional  max num of shrs  recommended position size  \n",
       "2020-06-23       2500.0             76.0                       38.0  \n",
       "2020-06-23       2500.0             34.0                       17.0  \n",
       "2020-06-23      10000.0             32.0                       32.0  \n",
       "2020-06-23      10000.0             40.0                       40.0  \n",
       "2020-06-23      10000.0            230.0                      115.0  \n",
       "2020-06-23      15000.0            150.0                      150.0  "
      ]
     },
     "execution_count": 8,
     "metadata": {},
     "output_type": "execute_result"
    }
   ],
   "source": [
    "trading"
   ]
  },
  {
   "cell_type": "code",
   "execution_count": null,
   "metadata": {},
   "outputs": [],
   "source": []
  }
 ],
 "metadata": {
  "kernelspec": {
   "display_name": "Python 3",
   "language": "python",
   "name": "python3"
  },
  "language_info": {
   "codemirror_mode": {
    "name": "ipython",
    "version": 3
   },
   "file_extension": ".py",
   "mimetype": "text/x-python",
   "name": "python",
   "nbconvert_exporter": "python",
   "pygments_lexer": "ipython3",
   "version": "3.7.4"
  }
 },
 "nbformat": 4,
 "nbformat_minor": 4
}
